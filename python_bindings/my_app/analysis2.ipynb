{
 "cells": [
  {
   "cell_type": "markdown",
   "metadata": {},
   "source": [
    "# Análise HCNSW nmslib"
   ]
  },
  {
   "cell_type": "markdown",
   "metadata": {},
   "source": [
    "## Imports"
   ]
  },
  {
   "cell_type": "code",
   "execution_count": 1,
   "metadata": {},
   "outputs": [],
   "source": [
    "from numpy import load\n",
    "from math import sqrt\n",
    "from tabulate import tabulate\n",
    "import matplotlib.pyplot as plt"
   ]
  },
  {
   "cell_type": "markdown",
   "metadata": {},
   "source": [
    "## Constantes e funções"
   ]
  },
  {
   "cell_type": "code",
   "execution_count": 2,
   "metadata": {},
   "outputs": [],
   "source": [
    "DB_NAME = \"gist\"\n",
    "METHOD_NAMES = (\"hnsw\", \"hcnsw\")"
   ]
  },
  {
   "cell_type": "code",
   "execution_count": 3,
   "metadata": {},
   "outputs": [],
   "source": [
    "def get_mean_and_sd(values):\n",
    "    mean = sum(values)/len(values)\n",
    "    s2 = (sum((x-mean)**2 for x in values))/(len(values)-1)\n",
    "    s = sqrt(s2)\n",
    "    return mean, s"
   ]
  },
  {
   "cell_type": "markdown",
   "metadata": {},
   "source": [
    "## Teste base (seed=0)"
   ]
  },
  {
   "cell_type": "code",
   "execution_count": 4,
   "metadata": {},
   "outputs": [],
   "source": [
    "recalls = {}\n",
    "deltas = {}\n",
    "for method_name in METHOD_NAMES:\n",
    "    recalls[method_name] = load(f\"data/{method_name}_{DB_NAME}_recalls.npy\")\n",
    "    deltas[method_name] = load(f\"data/{method_name}_{DB_NAME}_deltas.npy\")"
   ]
  },
  {
   "cell_type": "code",
   "execution_count": 5,
   "metadata": {},
   "outputs": [],
   "source": [
    "table = []\n",
    "for method_name in METHOD_NAMES:\n",
    "    mean_recalls, s_recalls = get_mean_and_sd(recalls[method_name])\n",
    "    mean_deltas, s_deltas = get_mean_and_sd(deltas[method_name])\n",
    "    table.append((method_name, mean_recalls, s_recalls, mean_deltas, s_deltas))\n",
    "table.sort(key=lambda row: row[1], reverse=True)"
   ]
  },
  {
   "cell_type": "code",
   "execution_count": 6,
   "metadata": {},
   "outputs": [
    {
     "name": "stdout",
     "output_type": "stream",
     "text": [
      "method      recall@100         SD    query time (s)        SD\n",
      "--------  ------------  ---------  ----------------  --------\n",
      "hnsw          0.925456  0.0686424        0.00181133  0.167318\n",
      "hcnsw         0.925259  0.0685414        0.00181643  0.167307\n"
     ]
    }
   ],
   "source": [
    "print(tabulate(table, headers=[\"method\", \"recall@100\", \"SD\", \"query time (s)\", \"SD\"]))"
   ]
  },
  {
   "cell_type": "code",
   "execution_count": 7,
   "metadata": {},
   "outputs": [
    {
     "data": {
      "image/png": "[encoded data removed]",
      "text/plain": [
       "<Figure size 600x600 with 1 Axes>"
      ]
     },
     "metadata": {},
     "output_type": "display_data"
    }
   ],
   "source": [
    "all_recalls = [recalls[method_name] for method_name in METHOD_NAMES]\n",
    "\n",
    "fig, ax = plt.subplots()\n",
    "fig.set_size_inches(6, 6)\n",
    "ax.set_ylabel('recall@100')\n",
    "bplot = ax.boxplot(all_recalls, labels=METHOD_NAMES)\n",
    "\n",
    "plt.show()"
   ]
  },
  {
   "cell_type": "markdown",
   "metadata": {},
   "source": [
    "## Variação de seeds (1 a 30)"
   ]
  },
  {
   "cell_type": "code",
   "execution_count": 4,
   "metadata": {},
   "outputs": [],
   "source": [
    "SEED_RANGE = range(1, 31)"
   ]
  },
  {
   "cell_type": "code",
   "execution_count": 6,
   "metadata": {},
   "outputs": [],
   "source": [
    "recalls = {}\n",
    "deltas = {}\n",
    "for method_name in METHOD_NAMES:\n",
    "    for seed in SEED_RANGE:\n",
    "        recalls[(method_name, seed)] = load(f\"data/{method_name}_{DB_NAME}_seed{seed}_recalls.npy\")\n",
    "        deltas[(method_name, seed)] = load(f\"data/{method_name}_{DB_NAME}_seed{seed}_deltas.npy\")"
   ]
  },
  {
   "cell_type": "code",
   "execution_count": 7,
   "metadata": {},
   "outputs": [],
   "source": [
    "table = []\n",
    "for method_name in METHOD_NAMES:\n",
    "    for seed in SEED_RANGE:\n",
    "        mean_recalls, s_recalls = get_mean_and_sd(recalls[(method_name, seed)])\n",
    "        mean_deltas, s_deltas = get_mean_and_sd(deltas[(method_name, seed)])\n",
    "        table.append((method_name, seed, mean_recalls, s_recalls, mean_deltas, s_deltas, min(recalls[(method_name, seed)])))\n",
    "table.sort(key=lambda row: row[2], reverse=True)"
   ]
  },
  {
   "cell_type": "code",
   "execution_count": 8,
   "metadata": {},
   "outputs": [
    {
     "name": "stdout",
     "output_type": "stream",
     "text": [
      "method      seed    recall@100        SD    query time (s)           SD    min recall\n",
      "--------  ------  ------------  --------  ----------------  -----------  ------------\n",
      "hnsw           3       0.69495  0.165047       0.0644456    2.01766              0.18\n",
      "hnsw          10       0.69463  0.165631       0.057793     1.80939              0.21\n",
      "hnsw          19       0.69454  0.164944       0.000578214  0.000132506          0.22\n",
      "hnsw           5       0.6944   0.165603       0.000579206  0.000143026          0.24\n",
      "hnsw           2       0.69434  0.165323       0.000706828  0.000810928          0.19\n",
      "hnsw           8       0.69433  0.166238       0.000581186  0.00013007           0.2\n",
      "hnsw          12       0.69424  0.165504       0.0575641    1.80227              0.21\n",
      "hnsw          22       0.6941   0.165779       0.000564221  0.000121547          0.24\n",
      "hnsw          28       0.69406  0.165857       0.000568349  0.000151063          0.21\n",
      "hnsw           9       0.69402  0.165493       0.000656872  0.000179229          0.25\n",
      "hnsw           6       0.69394  0.166202       0.000639954  0.000157689          0.18\n",
      "hcnsw         14       0.69391  0.165944       0.000587017  0.000183184          0.24\n",
      "hnsw          16       0.69384  0.166445       0.000587613  0.000566449          0.22\n",
      "hnsw           1       0.69382  0.165672       0.000671834  0.000776445          0.22\n",
      "hcnsw         20       0.69373  0.165987       0.00056566   0.00012322           0.2\n",
      "hcnsw         27       0.69363  0.166082       0.000601234  0.000172058          0.23\n",
      "hnsw          29       0.69356  0.166001       0.000574826  0.000127748          0.21\n",
      "hcnsw         12       0.69349  0.165518       0.000560228  0.000118086          0.24\n",
      "hcnsw          6       0.69347  0.166515       0.000574568  0.000120461          0.23\n",
      "hcnsw         18       0.69342  0.166233       0.000560553  0.000118832          0.23\n",
      "hnsw          27       0.69341  0.166272       0.000621513  0.000139799          0.23\n",
      "hnsw          23       0.69336  0.166062       0.000560606  0.000128338          0.16\n",
      "hnsw          13       0.69332  0.166196       0.000619978  0.000145866          0.23\n",
      "hnsw          24       0.6933   0.167342       0.000573636  0.00012713           0.22\n",
      "hnsw           7       0.6933   0.166853       0.000642203  0.000169419          0.18\n",
      "hnsw          15       0.69325  0.16677        0.000652449  0.000160783          0.21\n",
      "hnsw          25       0.69324  0.166914       0.000562533  0.000122623          0.19\n",
      "hcnsw         23       0.69324  0.166112       0.000555391  0.000119162          0.2\n",
      "hcnsw         30       0.69321  0.166474       0.000560081  0.000120725          0.18\n",
      "hnsw          17       0.69313  0.166811       0.000569852  0.000145024          0.24\n",
      "hnsw          26       0.69309  0.166221       0.000576414  0.000154874          0.16\n",
      "hcnsw         24       0.69309  0.166178       0.000562064  0.000139019          0.17\n",
      "hcnsw         13       0.69307  0.166768       0.000572637  0.000130479          0.24\n",
      "hnsw          18       0.69307  0.166316       0.000565748  0.000125614          0.2\n",
      "hnsw          21       0.69307  0.166327       0.000575482  0.000124686          0.24\n",
      "hcnsw         21       0.69306  0.166243       0.000563031  0.000122534          0.19\n",
      "hcnsw         29       0.69306  0.166162       0.000566787  0.000143617          0.21\n",
      "hcnsw         17       0.69306  0.166          0.000568386  0.000133798          0.21\n",
      "hnsw          30       0.69304  0.166408       0.000625593  0.000155162          0.21\n",
      "hcnsw          1       0.69299  0.166305       0.0647343    2.02709              0.2\n",
      "hnsw           4       0.69297  0.166932       0.000567445  0.000124536          0.19\n",
      "hcnsw          2       0.69295  0.166852       0.000683919  0.000731899          0.22\n",
      "hcnsw         11       0.69294  0.166753       0.000615706  0.000453412          0.22\n",
      "hnsw          14       0.69285  0.166207       0.000624007  0.000158463          0.19\n",
      "hcnsw         19       0.69284  0.166439       0.000565024  0.000198088          0.19\n",
      "hcnsw         16       0.69283  0.167219       0.000596182  0.000316939          0.24\n",
      "hcnsw          8       0.69281  0.166607       0.000579869  0.000140388          0.21\n",
      "hcnsw         26       0.69281  0.167166       0.000566563  0.000124039          0.22\n",
      "hnsw          20       0.69278  0.166738       0.000565713  0.000118575          0.19\n",
      "hcnsw         10       0.69267  0.166762       0.000575076  0.000164105          0.12\n",
      "hcnsw          7       0.69262  0.167112       0.000592868  0.0001458            0.21\n",
      "hcnsw         25       0.69261  0.167123       0.000558167  0.000119122          0.14\n",
      "hcnsw         22       0.69247  0.167667       0.00055638   0.000124176          0.19\n",
      "hcnsw         28       0.69227  0.167034       0.000565297  0.000148788          0.2\n",
      "hcnsw          4       0.69225  0.167115       0.000583909  0.00013548           0.24\n",
      "hcnsw          9       0.69222  0.167608       0.000649024  0.00017374           0.2\n",
      "hcnsw         15       0.69213  0.16654        0.000583786  0.000135559          0.22\n",
      "hcnsw          5       0.69211  0.166979       0.000568707  0.000126733          0.25\n",
      "hcnsw          3       0.69209  0.167647       0.000637955  0.000159916          0.2\n",
      "hnsw          11       0.69207  0.167167       0.000615887  0.000169589          0.18\n"
     ]
    }
   ],
   "source": [
    "print(tabulate(table, headers=[\"method\", \"seed\", \"recall@100\", \"SD\", \"query time (s)\", \"SD\", \"min recall\"]))"
   ]
  },
  {
   "cell_type": "code",
   "execution_count": 25,
   "metadata": {},
   "outputs": [
    {
     "data": {
      "image/png": "[encoded data removed]",
      "text/plain": [
       "<Figure size 2000x500 with 1 Axes>"
      ]
     },
     "metadata": {},
     "output_type": "display_data"
    }
   ],
   "source": [
    "all_recalls = [recalls[(method_name, seed)] for method_name in METHOD_NAMES for seed in SEED_RANGE]\n",
    "\n",
    "fig, ax = plt.subplots()\n",
    "fig.set_size_inches(20, 5)\n",
    "ax.set_ylabel('recall@100')\n",
    "bplot = ax.boxplot(all_recalls, labels=[f\"{method_name} seed={seed}\" for method_name in METHOD_NAMES for seed in SEED_RANGE])\n",
    "\n",
    "plt.show()"
   ]
  },
  {
   "cell_type": "code",
   "execution_count": 47,
   "metadata": {},
   "outputs": [],
   "source": [
    "table = []\n",
    "for method_name in METHOD_NAMES:\n",
    "    method_recalls = []\n",
    "    method_deltas = []\n",
    "    for seed in SEED_RANGE:\n",
    "        mean_recalls, s_recalls = get_mean_and_sd(recalls[(method_name, seed)])\n",
    "        method_recalls.append(mean_recalls)\n",
    "        mean_deltas, s_deltas = get_mean_and_sd(deltas[(method_name, seed)])\n",
    "        method_deltas.append(mean_deltas)\n",
    "    mean_recalls, s_recalls = get_mean_and_sd(method_recalls)\n",
    "    mean_deltas, s_deltas = get_mean_and_sd(method_deltas)\n",
    "    table.append((method_name, mean_recalls, s_recalls, mean_deltas, s_deltas))\n",
    "table.sort(key=lambda row: row[1], reverse=True)"
   ]
  },
  {
   "cell_type": "code",
   "execution_count": 48,
   "metadata": {},
   "outputs": [
    {
     "name": "stdout",
     "output_type": "stream",
     "text": [
      "method      recall@100           SD    query time (s)         SD\n",
      "--------  ------------  -----------  ----------------  ---------\n",
      "hnsw          0.693917  0.000796128        0.0154553   0.0268735\n",
      "hcnsw         0.692718  0.000485239        0.00594635  0.0185135\n"
     ]
    }
   ],
   "source": [
    "print(tabulate(table, headers=[\"method\", \"recall@100\", \"SD\", \"query time (s)\", \"SD\"]))"
   ]
  },
  {
   "cell_type": "code",
   "execution_count": 9,
   "metadata": {},
   "outputs": [],
   "source": [
    "table = []\n",
    "for method_name in METHOD_NAMES:\n",
    "    method_recalls = []\n",
    "    method_deltas = []\n",
    "    for seed in SEED_RANGE:\n",
    "        method_recalls += list(recalls[(method_name, seed)])\n",
    "        method_deltas += list(deltas[(method_name, seed)])\n",
    "    mean_recalls, s_recalls = get_mean_and_sd(method_recalls)\n",
    "    mean_deltas, s_deltas = get_mean_and_sd(method_deltas)\n",
    "    table.append((method_name, mean_recalls, s_recalls, mean_deltas, s_deltas))\n",
    "table.sort(key=lambda row: row[1], reverse=True)"
   ]
  },
  {
   "cell_type": "code",
   "execution_count": 10,
   "metadata": {},
   "outputs": [
    {
     "name": "stdout",
     "output_type": "stream",
     "text": [
      "method      recall@100        SD    query time (s)        SD\n",
      "--------  ------------  --------  ----------------  --------\n",
      "hnsw          0.693601  0.166098        0.00653436  0.594203\n",
      "hcnsw         0.692902  0.166559        0.00272035  0.370094\n"
     ]
    }
   ],
   "source": [
    "print(tabulate(table, headers=[\"method\", \"recall@100\", \"SD\", \"query time (s)\", \"SD\"]))"
   ]
  },
  {
   "cell_type": "code",
   "execution_count": 10,
   "metadata": {},
   "outputs": [],
   "source": [
    "table = []\n",
    "for method_name in METHOD_NAMES:\n",
    "    for seed in SEED_RANGE:\n",
    "        recalls_under_05 = 0\n",
    "        recalls_under_03 = 0\n",
    "        mean_recalls, s_recalls = get_mean_and_sd(recalls[(method_name, seed)])\n",
    "        for recall in recalls[(method_name, seed)]:\n",
    "            if recall < 0.5:\n",
    "                recalls_under_05 += 1\n",
    "                if recall < 0.3:\n",
    "                    recalls_under_03 += 1\n",
    "        table.append((method_name, seed, mean_recalls, s_recalls, recalls_under_05, recalls_under_03))\n",
    "table.sort(key=lambda row: row[2], reverse=True)\n",
    "table.sort(key=lambda row: row[4])\n",
    "table.sort(key=lambda row: row[5])"
   ]
  },
  {
   "cell_type": "code",
   "execution_count": 11,
   "metadata": {},
   "outputs": [
    {
     "name": "stdout",
     "output_type": "stream",
     "text": [
      "method      seed    recall@100         SD    recalls < 0.5    recalls < 0.3\n",
      "--------  ------  ------------  ---------  ---------------  ---------------\n",
      "hnsw          28      0.925691  0.0684381                0                0\n",
      "hnsw          16      0.925633  0.0684686                0                0\n",
      "hnsw          12      0.925596  0.0685545                0                0\n",
      "hnsw          27      0.925576  0.0685274                0                0\n",
      "hnsw          10      0.925557  0.0685031                0                0\n",
      "hcnsw         12      0.925509  0.0686205                0                0\n",
      "hnsw          24      0.925502  0.0687156                0                0\n",
      "hcnsw         22      0.925488  0.0686115                0                0\n",
      "hcnsw         29      0.925482  0.0686929                0                0\n",
      "hcnsw         27      0.925475  0.0686722                0                0\n",
      "hcnsw         11      0.925465  0.0687548                0                0\n",
      "hcnsw         19      0.925455  0.0687727                0                0\n",
      "hnsw          18      0.925454  0.0685722                0                0\n",
      "hcnsw          1      0.925429  0.0686116                0                0\n",
      "hcnsw         14      0.925408  0.0688471                0                0\n",
      "hcnsw         15      0.925398  0.0687472                0                0\n",
      "hcnsw         25      0.92539   0.0687719                0                0\n",
      "hcnsw          9      0.925389  0.0687322                0                0\n",
      "hcnsw         18      0.925374  0.068946                 0                0\n",
      "hcnsw         16      0.925351  0.068831                 0                0\n",
      "hnsw           2      0.925694  0.0685885                1                0\n",
      "hnsw          17      0.925563  0.0689498                1                0\n",
      "hnsw          13      0.925538  0.0684364                1                0\n",
      "hnsw          11      0.925533  0.0687458                1                0\n",
      "hnsw          29      0.925531  0.0688406                1                0\n",
      "hnsw           1      0.925522  0.0685409                1                0\n",
      "hcnsw          6      0.925505  0.068703                 1                0\n",
      "hnsw          20      0.925495  0.068898                 1                0\n",
      "hcnsw         17      0.925455  0.0688426                1                0\n",
      "hnsw          19      0.925442  0.0688408                1                0\n",
      "hcnsw          4      0.925439  0.0688856                1                0\n",
      "hcnsw         26      0.925437  0.0688484                1                0\n",
      "hnsw          25      0.925404  0.0688901                1                0\n",
      "hcnsw          7      0.925396  0.0689445                1                0\n",
      "hcnsw         13      0.925377  0.0689734                1                0\n",
      "hcnsw         10      0.925363  0.0690331                1                0\n",
      "hcnsw          3      0.925359  0.0689116                1                0\n",
      "hcnsw         30      0.925355  0.0690335                1                0\n",
      "hcnsw         21      0.925329  0.0688802                1                0\n",
      "hcnsw          2      0.925316  0.0688742                1                0\n",
      "hcnsw         28      0.925504  0.0688898                2                0\n",
      "hcnsw         24      0.92539   0.0689586                2                0\n",
      "hcnsw          8      0.925343  0.0691351                2                0\n",
      "hnsw          14      0.925205  0.069013                 3                0\n",
      "hnsw           3      0.925625  0.0688978                1                1\n",
      "hnsw           6      0.925527  0.0693201                1                1\n",
      "hnsw          22      0.925491  0.0693869                1                1\n",
      "hnsw           8      0.925188  0.0696002                1                1\n",
      "hnsw          30      0.925456  0.0692709                2                1\n",
      "hnsw           7      0.925378  0.0695093                2                1\n",
      "hcnsw         23      0.92535   0.0694714                2                1\n",
      "hnsw          15      0.925275  0.0699668                4                2\n",
      "hnsw           5      0.924943  0.0710341                5                3\n",
      "hcnsw          5      0.924953  0.0710762                5                4\n",
      "hnsw           9      0.924103  0.0713656                7                4\n",
      "hnsw           4      0.924299  0.0732597               10                8\n",
      "hnsw          26      0.924291  0.0737358               12                9\n",
      "hcnsw         20      0.924503  0.0742901               11               10\n",
      "hnsw          21      0.923619  0.074315                12               10\n",
      "hnsw          23      0.92362   0.0761037               17               15\n"
     ]
    }
   ],
   "source": [
    "print(tabulate(table, headers=[\"method\", \"seed\", \"recall@100\", \"SD\", \"recalls < 0.5\", \"recalls < 0.3\"]))"
   ]
  },
  {
   "cell_type": "code",
   "execution_count": 11,
   "metadata": {},
   "outputs": [],
   "source": [
    "table = []\n",
    "for method_name in METHOD_NAMES:\n",
    "    method_recalls_under_05 = []\n",
    "    method_recalls_under_03 = []\n",
    "    for seed in SEED_RANGE:\n",
    "        recalls_under_05 = 0\n",
    "        recalls_under_03 = 0\n",
    "        for recall in recalls[(method_name, seed)]:\n",
    "            if recall < 0.5:\n",
    "                recalls_under_05 += 1\n",
    "                if recall < 0.3:\n",
    "                    recalls_under_03 += 1\n",
    "        method_recalls_under_05.append(recalls_under_05)\n",
    "        method_recalls_under_03.append(recalls_under_03)\n",
    "    mean_recalls_05, s_recalls_05 = get_mean_and_sd(method_recalls_under_05)\n",
    "    mean_recalls_03, s_recalls_03 = get_mean_and_sd(method_recalls_under_03)\n",
    "    table.append((method_name, mean_recalls_05, s_recalls_05, mean_recalls_03, s_recalls_03))\n",
    "table.sort(key=lambda row: row[1])\n",
    "table.sort(key=lambda row: row[3])"
   ]
  },
  {
   "cell_type": "code",
   "execution_count": 12,
   "metadata": {},
   "outputs": [
    {
     "name": "stdout",
     "output_type": "stream",
     "text": [
      "method      recalls < 0.5       SD    recalls < 0.3        SD\n",
      "--------  ---------------  -------  ---------------  --------\n",
      "hnsw              126.167  3.94866          4.8      0.886683\n",
      "hcnsw             127.2    3.76371          5.53333  0.937102\n"
     ]
    }
   ],
   "source": [
    "print(tabulate(table, headers=[\"method\", \"recalls < 0.5\", \"SD\", \"recalls < 0.3\", \"SD\"]))"
   ]
  },
  {
   "cell_type": "code",
   "execution_count": 13,
   "metadata": {},
   "outputs": [],
   "source": [
    "for method_name in METHOD_NAMES:\n",
    "    for seed in SEED_RANGE:\n",
    "        for i, delta in enumerate(deltas[(method_name, seed)]):\n",
    "            if delta < 0.00001:\n",
    "                print(f\"method={method_name} seed={seed} time={delta} recall={recalls[(method_name, seed)][i]}\")"
   ]
  }
 ],
 "metadata": {
  "kernelspec": {
   "display_name": "Python 3",
   "language": "python",
   "name": "python3"
  },
  "language_info": {
   "codemirror_mode": {
    "name": "ipython",
    "version": 3
   },
   "file_extension": ".py",
   "mimetype": "text/x-python",
   "name": "python",
   "nbconvert_exporter": "python",
   "pygments_lexer": "ipython3",
   "version": "3.12.2"
  }
 },
 "nbformat": 4,
 "nbformat_minor": 2
}
