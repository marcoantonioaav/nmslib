{
 "cells": [
  {
   "cell_type": "markdown",
   "metadata": {},
   "source": [
    "# Análise HCNSW nmslib"
   ]
  },
  {
   "cell_type": "markdown",
   "metadata": {},
   "source": [
    "## Imports"
   ]
  },
  {
   "cell_type": "code",
   "execution_count": 1,
   "metadata": {},
   "outputs": [],
   "source": [
    "from numpy import load\n",
    "from math import sqrt\n",
    "from tabulate import tabulate\n",
    "import matplotlib.pyplot as plt"
   ]
  },
  {
   "cell_type": "markdown",
   "metadata": {},
   "source": [
    "## Constantes e funções"
   ]
  },
  {
   "cell_type": "code",
   "execution_count": 2,
   "metadata": {},
   "outputs": [],
   "source": [
    "DB_NAME = \"glove-50\"\n",
    "METHOD_NAMES = (\"hnsw\", \"hcnsw\")"
   ]
  },
  {
   "cell_type": "code",
   "execution_count": 3,
   "metadata": {},
   "outputs": [],
   "source": [
    "def get_mean_and_sd(values):\n",
    "    mean = sum(values)/len(values)\n",
    "    s2 = (sum((x-mean)**2 for x in values))/(len(values)-1)\n",
    "    s = sqrt(s2)\n",
    "    return mean, s"
   ]
  },
  {
   "cell_type": "markdown",
   "metadata": {},
   "source": [
    "## Teste base (seed=0)"
   ]
  },
  {
   "cell_type": "code",
   "execution_count": 4,
   "metadata": {},
   "outputs": [],
   "source": [
    "recalls = {}\n",
    "deltas = {}\n",
    "for method_name in METHOD_NAMES:\n",
    "    recalls[method_name] = load(f\"data/{method_name}_{DB_NAME}_recalls.npy\")\n",
    "    deltas[method_name] = load(f\"data/{method_name}_{DB_NAME}_deltas.npy\")"
   ]
  },
  {
   "cell_type": "code",
   "execution_count": 5,
   "metadata": {},
   "outputs": [],
   "source": [
    "table = []\n",
    "for method_name in METHOD_NAMES:\n",
    "    mean_recalls, s_recalls = get_mean_and_sd(recalls[method_name])\n",
    "    mean_deltas, s_deltas = get_mean_and_sd(deltas[method_name])\n",
    "    table.append((method_name, mean_recalls, s_recalls, mean_deltas, s_deltas))\n",
    "table.sort(key=lambda row: row[1], reverse=True)"
   ]
  },
  {
   "cell_type": "code",
   "execution_count": 6,
   "metadata": {},
   "outputs": [
    {
     "name": "stdout",
     "output_type": "stream",
     "text": [
      "method      recall@100         SD    query time (s)        SD\n",
      "--------  ------------  ---------  ----------------  --------\n",
      "hnsw          0.925456  0.0686424        0.00181133  0.167318\n",
      "hcnsw         0.925259  0.0685414        0.00181643  0.167307\n"
     ]
    }
   ],
   "source": [
    "print(tabulate(table, headers=[\"method\", \"recall@100\", \"SD\", \"query time (s)\", \"SD\"]))"
   ]
  },
  {
   "cell_type": "code",
   "execution_count": 7,
   "metadata": {},
   "outputs": [
    {
     "data": {
      "image/png": "[encoded data removed]",
      "text/plain": [
       "<Figure size 600x600 with 1 Axes>"
      ]
     },
     "metadata": {},
     "output_type": "display_data"
    }
   ],
   "source": [
    "all_recalls = [recalls[method_name] for method_name in METHOD_NAMES]\n",
    "\n",
    "fig, ax = plt.subplots()\n",
    "fig.set_size_inches(6, 6)\n",
    "ax.set_ylabel('recall@100')\n",
    "bplot = ax.boxplot(all_recalls, labels=METHOD_NAMES)\n",
    "\n",
    "plt.show()"
   ]
  },
  {
   "cell_type": "markdown",
   "metadata": {},
   "source": [
    "## Variação de seeds (1 a 30)"
   ]
  },
  {
   "cell_type": "code",
   "execution_count": 4,
   "metadata": {},
   "outputs": [],
   "source": [
    "SEED_RANGE = range(1, 31)"
   ]
  },
  {
   "cell_type": "code",
   "execution_count": 5,
   "metadata": {},
   "outputs": [],
   "source": [
    "recalls = {}\n",
    "deltas = {}\n",
    "for method_name in METHOD_NAMES:\n",
    "    for seed in SEED_RANGE:\n",
    "        recalls[(method_name, seed)] = load(f\"data/{method_name}_{DB_NAME}_seed{seed}_recalls.npy\")\n",
    "        deltas[(method_name, seed)] = load(f\"data/{method_name}_{DB_NAME}_seed{seed}_deltas.npy\")"
   ]
  },
  {
   "cell_type": "code",
   "execution_count": 6,
   "metadata": {},
   "outputs": [],
   "source": [
    "table = []\n",
    "for method_name in METHOD_NAMES:\n",
    "    for seed in SEED_RANGE:\n",
    "        mean_recalls, s_recalls = get_mean_and_sd(recalls[(method_name, seed)])\n",
    "        mean_deltas, s_deltas = get_mean_and_sd(deltas[(method_name, seed)])\n",
    "        table.append((method_name, seed, mean_recalls, s_recalls, mean_deltas, s_deltas, min(recalls[(method_name, seed)])))\n",
    "table.sort(key=lambda row: row[2], reverse=True)"
   ]
  },
  {
   "cell_type": "code",
   "execution_count": 7,
   "metadata": {},
   "outputs": [
    {
     "name": "stdout",
     "output_type": "stream",
     "text": [
      "method      seed    recall@100        SD    query time (s)           SD    min recall\n",
      "--------  ------  ------------  --------  ----------------  -----------  ------------\n",
      "hnsw          25      0.793816  0.190752       0.00612996   0.587696             0.01\n",
      "hnsw           7      0.793649  0.191349       0.00630792   0.604784             0.04\n",
      "hnsw           2      0.793597  0.191058       0.000280847  0.858596             0.08\n",
      "hnsw          13      0.793591  0.191415       0.00625076   0.599193             0.16\n",
      "hnsw           6      0.79357   0.19136       -0.00579696   0.605674             0\n",
      "hnsw           3      0.793556  0.191257       0.000255256  6.44443e-05          0.16\n",
      "hnsw          30      0.79355   0.191202       0.000261838  0.824289             0.08\n",
      "hnsw          20      0.79353   0.190991       0.000258549  6.94704e-05          0.07\n",
      "hnsw           5      0.793519  0.191178       0.000253318  0.857859             0.05\n",
      "hnsw          19      0.793492  0.190956       0.00619367   0.593487             0.02\n",
      "hnsw          18      0.793422  0.191669       0.00620536   0.594443             0.01\n",
      "hcnsw         25      0.793406  0.191482       0.000251808  0.831262             0.02\n",
      "hcnsw         22      0.793405  0.19163        0.000256153  6.46432e-05          0.12\n",
      "hnsw          15      0.793381  0.191618       0.00622585   0.597387             0.05\n",
      "hnsw          23      0.793371  0.19133        0.000257981  0.833888             0.01\n",
      "hnsw           1      0.79336   0.191734       0.00636209   0.607281             0.01\n",
      "hnsw           9      0.793332  0.191281       0.000261063  0.852735             0.02\n",
      "hnsw          24      0.79332   0.191591       0.00614095   0.588652             0.07\n",
      "hnsw           4      0.793318  0.191124       0.000249741  6.41285e-05          0.12\n",
      "hnsw          10      0.793277  0.191354       0.000267829  6.97977e-05          0\n",
      "hnsw          16      0.793248  0.191894       0.000257018  6.73772e-05          0.01\n",
      "hcnsw          8      0.793203  0.191555       0.000257419  6.29269e-05          0.07\n",
      "hcnsw         27      0.793195  0.19181        0.000258327  0.828512             0\n",
      "hcnsw         13      0.793191  0.191823       0.000257953  6.375e-05            0.14\n",
      "hcnsw         11      0.793186  0.191791       0.000253121  0.850204             0\n",
      "hcnsw         14      0.793185  0.191447       0.00623066   0.598345             0.15\n",
      "hnsw           8      0.793127  0.192006       0.000261186  0.854046             0.01\n",
      "hcnsw          3      0.793124  0.191796       0.000255516  6.41339e-05          0.01\n",
      "hnsw          28      0.793117  0.191894      -0.0055881    0.58479              0.04\n",
      "hcnsw         24      0.793113  0.191953       0.000251445  6.34047e-05          0.01\n",
      "hcnsw          5      0.793087  0.191911       0.000248533  0.857985             0\n",
      "hcnsw         12      0.793084  0.192024       0.000261954  0.848871             0.05\n",
      "hnsw          29      0.793081  0.191889       0.000256882  6.83919e-05          0\n",
      "hnsw          14      0.79308   0.19208        0.00025304   6.23516e-05          0.01\n",
      "hnsw          17      0.79307   0.191957       0.000249694  6.15706e-05          0\n",
      "hnsw          21      0.793067  0.192317       0.00025849   6.51637e-05          0.01\n",
      "hcnsw         18      0.793052  0.191717       0.000247871  6.2519e-05           0\n",
      "hcnsw         28      0.793044  0.191826      -0.00558652   0.584843             0.01\n",
      "hnsw          12      0.793042  0.191678       0.00625588   0.600127             0.09\n",
      "hcnsw         21      0.793036  0.191806       0.00617571   0.591647             0.02\n",
      "hcnsw         20      0.793     0.191872       0.000257236  6.58156e-05          0\n",
      "hnsw          26      0.793     0.191638       0.000254239  6.1735e-05           0\n",
      "hcnsw          2      0.792965  0.191959       0.00634001   0.607185             0.15\n",
      "hcnsw         30      0.79295   0.192109       0.000257297  6.54719e-05          0.04\n",
      "hcnsw         19      0.792949  0.191987       0.000256932  6.41809e-05          0.01\n",
      "hcnsw         15      0.792936  0.192072      -0.00572141   0.597388             0.01\n",
      "hcnsw         17      0.792935  0.192568       0.000262179  6.93406e-05          0.01\n",
      "hcnsw          6      0.792908  0.192163      -0.00580939   0.605757             0.01\n",
      "hcnsw          1      0.792905  0.191891       0.00027914   7.13597e-05          0.12\n",
      "hnsw          11      0.792904  0.192342       0.000253021  6.33803e-05          0.02\n",
      "hnsw          27      0.792863  0.192242       0.000257017  6.38779e-05          0.01\n",
      "hcnsw         10      0.792834  0.191943       0.000248083  6.10609e-05          0.02\n",
      "hcnsw         16      0.792826  0.191747       0.000253818  0.843562             0.01\n",
      "hcnsw          7      0.792823  0.192261       0.000252966  0.855458             0.01\n",
      "hcnsw         23      0.792819  0.192267       0.00025216   0.834009             0.02\n",
      "hcnsw          9      0.792779  0.192107       0.000256896  0.85287              0.01\n",
      "hcnsw         29      0.792705  0.192142       0.000268539  6.89706e-05          0.04\n",
      "hcnsw          4      0.792699  0.192052       0.000252393  6.77196e-05          0.01\n",
      "hnsw          22      0.79269   0.19242        0.000261145  0.835264             0.01\n",
      "hcnsw         26      0.792571  0.192606       0.000262749  6.8567e-05           0.01\n"
     ]
    }
   ],
   "source": [
    "print(tabulate(table, headers=[\"method\", \"seed\", \"recall@100\", \"SD\", \"query time (s)\", \"SD\", \"min recall\"]))"
   ]
  },
  {
   "cell_type": "code",
   "execution_count": 10,
   "metadata": {},
   "outputs": [
    {
     "data": {
      "image/png": "[encoded data removed]",
      "text/plain": [
       "<Figure size 2000x500 with 1 Axes>"
      ]
     },
     "metadata": {},
     "output_type": "display_data"
    }
   ],
   "source": [
    "all_recalls = [recalls[(method_name, seed)] for method_name in METHOD_NAMES for seed in SEED_RANGE]\n",
    "\n",
    "fig, ax = plt.subplots()\n",
    "fig.set_size_inches(20, 5)\n",
    "ax.set_ylabel('recall@100')\n",
    "bplot = ax.boxplot(all_recalls, labels=[f\"{method_name} seed={seed}\" for method_name in METHOD_NAMES for seed in SEED_RANGE])\n",
    "\n",
    "plt.show()"
   ]
  },
  {
   "cell_type": "code",
   "execution_count": 8,
   "metadata": {},
   "outputs": [],
   "source": [
    "table = []\n",
    "for method_name in METHOD_NAMES:\n",
    "    method_recalls = []\n",
    "    method_deltas = []\n",
    "    for seed in SEED_RANGE:\n",
    "        mean_recalls, s_recalls = get_mean_and_sd(recalls[(method_name, seed)])\n",
    "        method_recalls.append(mean_recalls)\n",
    "        mean_deltas, s_deltas = get_mean_and_sd(deltas[(method_name, seed)])\n",
    "        method_deltas.append(mean_deltas)\n",
    "    mean_recalls, s_recalls = get_mean_and_sd(method_recalls)\n",
    "    mean_deltas, s_deltas = get_mean_and_sd(method_deltas)\n",
    "    table.append((method_name, mean_recalls, s_recalls, mean_deltas, s_deltas))\n",
    "table.sort(key=lambda row: row[1], reverse=True)"
   ]
  },
  {
   "cell_type": "code",
   "execution_count": 9,
   "metadata": {},
   "outputs": [
    {
     "name": "stdout",
     "output_type": "stream",
     "text": [
      "method      recall@100           SD    query time (s)          SD\n",
      "--------  ------------  -----------  ----------------  ----------\n",
      "hnsw          0.793298  0.000267683       0.00165318   0.00339117\n",
      "hcnsw         0.792997  0.000197085       0.000259652  0.00271908\n"
     ]
    }
   ],
   "source": [
    "print(tabulate(table, headers=[\"method\", \"recall@100\", \"SD\", \"query time (s)\", \"SD\"]))"
   ]
  },
  {
   "cell_type": "code",
   "execution_count": 11,
   "metadata": {},
   "outputs": [],
   "source": [
    "table = []\n",
    "for method_name in METHOD_NAMES:\n",
    "    method_recalls = []\n",
    "    method_deltas = []\n",
    "    for seed in SEED_RANGE:\n",
    "        method_recalls += list(recalls[(method_name, seed)])\n",
    "        method_deltas += list(deltas[(method_name, seed)])\n",
    "    mean_recalls, s_recalls = get_mean_and_sd(method_recalls)\n",
    "    mean_deltas, s_deltas = get_mean_and_sd(method_deltas)\n",
    "    table.append((method_name, mean_recalls, s_recalls, mean_deltas, s_deltas))\n",
    "table.sort(key=lambda row: row[1], reverse=True)"
   ]
  },
  {
   "cell_type": "code",
   "execution_count": 12,
   "metadata": {},
   "outputs": [
    {
     "name": "stdout",
     "output_type": "stream",
     "text": [
      "method      recall@100        SD    query time (s)        SD\n",
      "--------  ------------  --------  ----------------  --------\n",
      "hnsw          0.793298  0.191577       0.00165318   0.545238\n",
      "hcnsw         0.792997  0.191935       0.000259652  0.534332\n"
     ]
    }
   ],
   "source": [
    "print(tabulate(table, headers=[\"method\", \"recall@100\", \"SD\", \"query time (s)\", \"SD\"]))"
   ]
  },
  {
   "cell_type": "code",
   "execution_count": 16,
   "metadata": {},
   "outputs": [],
   "source": [
    "table = []\n",
    "for method_name in METHOD_NAMES:\n",
    "    for seed in SEED_RANGE:\n",
    "        recalls_under_05 = 0\n",
    "        recalls_under_03 = 0\n",
    "        mean_recalls, s_recalls = get_mean_and_sd(recalls[(method_name, seed)])\n",
    "        for recall in recalls[(method_name, seed)]:\n",
    "            if recall < 0.5:\n",
    "                recalls_under_05 += 1\n",
    "                if recall < 0.3:\n",
    "                    recalls_under_03 += 1\n",
    "        table.append((method_name, seed, mean_recalls, s_recalls, recalls_under_05, recalls_under_03))\n",
    "table.sort(key=lambda row: row[2], reverse=True)\n",
    "table.sort(key=lambda row: row[4])\n",
    "table.sort(key=lambda row: row[5])"
   ]
  },
  {
   "cell_type": "code",
   "execution_count": 17,
   "metadata": {},
   "outputs": [
    {
     "name": "stdout",
     "output_type": "stream",
     "text": [
      "method      seed    recall@100        SD    recalls < 0.5    recalls < 0.3\n",
      "--------  ------  ------------  --------  ---------------  ---------------\n",
      "hnsw          19      0.793492  0.190956             1005               54\n",
      "hnsw           1      0.79336   0.191734             1039               59\n",
      "hnsw          20      0.79353   0.190991              987               60\n",
      "hnsw          26      0.793     0.191638             1005               61\n",
      "hcnsw         25      0.793406  0.191482             1019               61\n",
      "hcnsw         20      0.793     0.191872             1020               61\n",
      "hnsw          10      0.793277  0.191354             1005               62\n",
      "hcnsw         16      0.792826  0.191747             1012               62\n",
      "hnsw          25      0.793816  0.190752              995               63\n",
      "hcnsw         11      0.793186  0.191791             1022               64\n",
      "hnsw          30      0.79355   0.191202             1017               65\n",
      "hcnsw         30      0.79295   0.192109             1030               65\n",
      "hcnsw         22      0.793405  0.19163              1002               66\n",
      "hnsw          13      0.793591  0.191415             1003               66\n",
      "hcnsw          3      0.793124  0.191796             1011               66\n",
      "hnsw          16      0.793248  0.191894             1005               67\n",
      "hnsw           4      0.793318  0.191124             1006               67\n",
      "hcnsw         24      0.793113  0.191953             1017               67\n",
      "hnsw           7      0.793649  0.191349              998               68\n",
      "hcnsw         10      0.792834  0.191943             1029               68\n",
      "hcnsw         26      0.792571  0.192606             1034               68\n",
      "hnsw          17      0.79307   0.191957             1035               68\n",
      "hnsw           5      0.793519  0.191178              992               69\n",
      "hcnsw         27      0.793195  0.19181              1001               69\n",
      "hcnsw          2      0.792965  0.191959             1001               69\n",
      "hnsw           2      0.793597  0.191058             1004               69\n",
      "hnsw          14      0.79308   0.19208              1011               69\n",
      "hnsw          12      0.793042  0.191678             1011               69\n",
      "hcnsw          5      0.793087  0.191911             1022               69\n",
      "hcnsw          1      0.792905  0.191891             1015               70\n",
      "hnsw          23      0.793371  0.19133              1022               70\n",
      "hcnsw          7      0.792823  0.192261             1025               70\n",
      "hcnsw         14      0.793185  0.191447             1027               70\n",
      "hnsw           3      0.793556  0.191257              992               71\n",
      "hnsw          18      0.793422  0.191669             1002               71\n",
      "hcnsw          8      0.793203  0.191555             1009               71\n",
      "hnsw          29      0.793081  0.191889             1021               71\n",
      "hnsw           8      0.793127  0.192006             1025               71\n",
      "hcnsw         12      0.793084  0.192024             1031               71\n",
      "hnsw          24      0.79332   0.191591             1013               72\n",
      "hnsw           6      0.79357   0.19136               987               73\n",
      "hcnsw         23      0.792819  0.192267             1003               73\n",
      "hnsw          11      0.792904  0.192342             1009               73\n",
      "hcnsw         21      0.793036  0.191806             1024               73\n",
      "hcnsw         18      0.793052  0.191717             1003               74\n",
      "hnsw           9      0.793332  0.191281             1009               74\n",
      "hnsw          27      0.792863  0.192242             1018               74\n",
      "hcnsw          9      0.792779  0.192107             1012               75\n",
      "hcnsw         29      0.792705  0.192142             1023               75\n",
      "hcnsw          4      0.792699  0.192052             1026               75\n",
      "hnsw          15      0.793381  0.191618              995               77\n",
      "hcnsw         28      0.793044  0.191826             1014               77\n",
      "hcnsw         19      0.792949  0.191987             1019               78\n",
      "hcnsw         17      0.792935  0.192568             1026               78\n",
      "hcnsw          6      0.792908  0.192163             1023               79\n",
      "hnsw          21      0.793067  0.192317             1033               80\n",
      "hcnsw         13      0.793191  0.191823              997               81\n",
      "hcnsw         15      0.792936  0.192072             1005               82\n",
      "hnsw          28      0.793117  0.191894              994               85\n",
      "hnsw          22      0.79269   0.19242              1025               85\n"
     ]
    }
   ],
   "source": [
    "print(tabulate(table, headers=[\"method\", \"seed\", \"recall@100\", \"SD\", \"recalls < 0.5\", \"recalls < 0.3\"]))"
   ]
  },
  {
   "cell_type": "code",
   "execution_count": 13,
   "metadata": {},
   "outputs": [],
   "source": [
    "table = []\n",
    "for method_name in METHOD_NAMES:\n",
    "    method_recalls_under_05 = []\n",
    "    method_recalls_under_03 = []\n",
    "    for seed in SEED_RANGE:\n",
    "        recalls_under_05 = 0\n",
    "        recalls_under_03 = 0\n",
    "        for recall in recalls[(method_name, seed)]:\n",
    "            if recall < 0.5:\n",
    "                recalls_under_05 += 1\n",
    "                if recall < 0.3:\n",
    "                    recalls_under_03 += 1\n",
    "        method_recalls_under_05.append(recalls_under_05)\n",
    "        method_recalls_under_03.append(recalls_under_03)\n",
    "    mean_recalls_05, s_recalls_05 = get_mean_and_sd(method_recalls_under_05)\n",
    "    mean_recalls_03, s_recalls_03 = get_mean_and_sd(method_recalls_under_03)\n",
    "    table.append((method_name, mean_recalls_05, s_recalls_05, mean_recalls_03, s_recalls_03))\n",
    "table.sort(key=lambda row: row[1])\n",
    "table.sort(key=lambda row: row[3])"
   ]
  },
  {
   "cell_type": "code",
   "execution_count": 14,
   "metadata": {},
   "outputs": [
    {
     "name": "stdout",
     "output_type": "stream",
     "text": [
      "method      recalls < 0.5       SD    recalls < 0.3       SD\n",
      "--------  ---------------  -------  ---------------  -------\n",
      "hnsw              1008.77  13.9103          69.4333  6.92165\n",
      "hcnsw             1016.73  10.4153          70.9     5.7196\n"
     ]
    }
   ],
   "source": [
    "print(tabulate(table, headers=[\"method\", \"recalls < 0.5\", \"SD\", \"recalls < 0.3\", \"SD\"]))"
   ]
  },
  {
   "cell_type": "code",
   "execution_count": 15,
   "metadata": {},
   "outputs": [
    {
     "name": "stdout",
     "output_type": "stream",
     "text": [
      "method=hnsw seed=2 time=-60.708194971084595 recall=0.84\n",
      "method=hnsw seed=5 time=-60.65636348724365 recall=0.77\n",
      "method=hnsw seed=6 time=-60.56712865829468 recall=0.52\n",
      "method=hnsw seed=8 time=-60.386693239212036 recall=0.87\n",
      "method=hnsw seed=9 time=-60.29426312446594 recall=1.0\n",
      "method=hnsw seed=22 time=-59.05870842933655 recall=0.94\n",
      "method=hnsw seed=23 time=-58.961491107940674 recall=0.78\n",
      "method=hnsw seed=28 time=-58.478697538375854 recall=0.91\n",
      "method=hnsw seed=30 time=-58.282315254211426 recall=0.57\n",
      "method=hcnsw seed=5 time=-60.66545128822327 recall=0.99\n",
      "method=hcnsw seed=6 time=-60.57545065879822 recall=0.53\n",
      "method=hcnsw seed=7 time=-60.48610472679138 recall=0.67\n",
      "method=hcnsw seed=9 time=-60.30385971069336 recall=0.99\n",
      "method=hcnsw seed=11 time=-60.1147301197052 recall=0.61\n",
      "method=hcnsw seed=12 time=-60.0209219455719 recall=0.92\n",
      "method=hcnsw seed=15 time=-59.73856067657471 recall=1.0\n",
      "method=hcnsw seed=16 time=-59.64535856246948 recall=0.97\n",
      "method=hcnsw seed=23 time=-58.9699764251709 recall=0.93\n",
      "method=hcnsw seed=25 time=-58.776981592178345 recall=0.44\n",
      "method=hcnsw seed=27 time=-58.581401109695435 recall=0.98\n",
      "method=hcnsw seed=28 time=-58.48400163650513 recall=0.99\n"
     ]
    }
   ],
   "source": [
    "for method_name in METHOD_NAMES:\n",
    "    for seed in SEED_RANGE:\n",
    "        for i, delta in enumerate(deltas[(method_name, seed)]):\n",
    "            if delta < 0.00001:\n",
    "                print(f\"method={method_name} seed={seed} time={delta} recall={recalls[(method_name, seed)][i]}\")"
   ]
  }
 ],
 "metadata": {
  "kernelspec": {
   "display_name": "Python 3",
   "language": "python",
   "name": "python3"
  },
  "language_info": {
   "codemirror_mode": {
    "name": "ipython",
    "version": 3
   },
   "file_extension": ".py",
   "mimetype": "text/x-python",
   "name": "python",
   "nbconvert_exporter": "python",
   "pygments_lexer": "ipython3",
   "version": "3.12.2"
  }
 },
 "nbformat": 4,
 "nbformat_minor": 2
}
